{
  "nbformat": 4,
  "nbformat_minor": 0,
  "metadata": {
    "colab": {
      "name": "ANN_Scratch_ICS_Class.ipynb",
      "provenance": [],
      "collapsed_sections": [],
      "include_colab_link": true
    },
    "kernelspec": {
      "display_name": "Python 3",
      "name": "python3"
    },
    "language_info": {
      "name": "python"
    }
  },
  "cells": [
    {
      "cell_type": "markdown",
      "metadata": {
        "id": "view-in-github",
        "colab_type": "text"
      },
      "source": [
        "<a href=\"https://colab.research.google.com/github/JoanWaweru/AI-ML-Group-Task/blob/main/ANN_Scratch_ICS_Class.ipynb\" target=\"_parent\"><img src=\"https://colab.research.google.com/assets/colab-badge.svg\" alt=\"Open In Colab\"/></a>"
      ]
    },
    {
      "cell_type": "code",
      "metadata": {
        "id": "1G1n83yzj4xC"
      },
      "source": [
        "import pandas as pd \n",
        "import numpy as np"
      ],
      "execution_count": null,
      "outputs": []
    },
    {
      "cell_type": "code",
      "metadata": {
        "id": "p02bQfWckSWf"
      },
      "source": [
        "from numpy import array\n",
        "from sklearn.preprocessing import Normalizer\n",
        "from keras.activations import sigmoid\n",
        "from keras.losses import mse\n",
        "from numpy.random import uniform"
      ],
      "execution_count": null,
      "outputs": []
    },
    {
      "cell_type": "markdown",
      "metadata": {
        "id": "F7ttDmY80BBC"
      },
      "source": [
        "Hyperparameters"
      ]
    },
    {
      "cell_type": "code",
      "metadata": {
        "id": "1M6LtMrQ0DVQ"
      },
      "source": [
        "batch_size=2"
      ],
      "execution_count": null,
      "outputs": []
    },
    {
      "cell_type": "markdown",
      "metadata": {
        "id": "ZkNWpiX-keTQ"
      },
      "source": [
        "Dataset"
      ]
    },
    {
      "cell_type": "code",
      "metadata": {
        "id": "-D5ZfUwmkwih"
      },
      "source": [
        "data={'Day 1':[30,40,50,20,15,60],'Day 2':[40,50,20,15,60,70],\n",
        "      'Day 3':[50,20,15,60,70,50],'Target':[20,15,60,70,50,40]}"
      ],
      "execution_count": null,
      "outputs": []
    },
    {
      "cell_type": "code",
      "metadata": {
        "id": "_xEUKLHxkYyi"
      },
      "source": [
        "dataset=pd.DataFrame(data)"
      ],
      "execution_count": null,
      "outputs": []
    },
    {
      "cell_type": "code",
      "metadata": {
        "colab": {
          "base_uri": "https://localhost:8080/",
          "height": 238
        },
        "id": "-bDPgQjkli48",
        "outputId": "6e4868b8-c024-4dfc-8f9b-8d50b43cf336"
      },
      "source": [
        "dataset"
      ],
      "execution_count": null,
      "outputs": [
        {
          "output_type": "execute_result",
          "data": {
            "text/html": [
              "<div>\n",
              "<style scoped>\n",
              "    .dataframe tbody tr th:only-of-type {\n",
              "        vertical-align: middle;\n",
              "    }\n",
              "\n",
              "    .dataframe tbody tr th {\n",
              "        vertical-align: top;\n",
              "    }\n",
              "\n",
              "    .dataframe thead th {\n",
              "        text-align: right;\n",
              "    }\n",
              "</style>\n",
              "<table border=\"1\" class=\"dataframe\">\n",
              "  <thead>\n",
              "    <tr style=\"text-align: right;\">\n",
              "      <th></th>\n",
              "      <th>Day 1</th>\n",
              "      <th>Day 2</th>\n",
              "      <th>Day 3</th>\n",
              "      <th>Target</th>\n",
              "    </tr>\n",
              "  </thead>\n",
              "  <tbody>\n",
              "    <tr>\n",
              "      <th>0</th>\n",
              "      <td>30</td>\n",
              "      <td>40</td>\n",
              "      <td>50</td>\n",
              "      <td>20</td>\n",
              "    </tr>\n",
              "    <tr>\n",
              "      <th>1</th>\n",
              "      <td>40</td>\n",
              "      <td>50</td>\n",
              "      <td>20</td>\n",
              "      <td>15</td>\n",
              "    </tr>\n",
              "    <tr>\n",
              "      <th>2</th>\n",
              "      <td>50</td>\n",
              "      <td>20</td>\n",
              "      <td>15</td>\n",
              "      <td>60</td>\n",
              "    </tr>\n",
              "    <tr>\n",
              "      <th>3</th>\n",
              "      <td>20</td>\n",
              "      <td>15</td>\n",
              "      <td>60</td>\n",
              "      <td>70</td>\n",
              "    </tr>\n",
              "    <tr>\n",
              "      <th>4</th>\n",
              "      <td>15</td>\n",
              "      <td>60</td>\n",
              "      <td>70</td>\n",
              "      <td>50</td>\n",
              "    </tr>\n",
              "    <tr>\n",
              "      <th>5</th>\n",
              "      <td>60</td>\n",
              "      <td>70</td>\n",
              "      <td>50</td>\n",
              "      <td>40</td>\n",
              "    </tr>\n",
              "  </tbody>\n",
              "</table>\n",
              "</div>"
            ],
            "text/plain": [
              "   Day 1  Day 2  Day 3  Target\n",
              "0     30     40     50      20\n",
              "1     40     50     20      15\n",
              "2     50     20     15      60\n",
              "3     20     15     60      70\n",
              "4     15     60     70      50\n",
              "5     60     70     50      40"
            ]
          },
          "metadata": {},
          "execution_count": 7
        }
      ]
    },
    {
      "cell_type": "code",
      "metadata": {
        "id": "zARgHRFfmvWs"
      },
      "source": [
        "X=dataset.drop('Target',axis=1)\n",
        "y=dataset['Target']"
      ],
      "execution_count": null,
      "outputs": []
    },
    {
      "cell_type": "code",
      "metadata": {
        "colab": {
          "base_uri": "https://localhost:8080/",
          "height": 238
        },
        "id": "ehZYrwZfn_WU",
        "outputId": "2640a961-cfc3-404c-b76e-4bb61be7d43c"
      },
      "source": [
        "X"
      ],
      "execution_count": null,
      "outputs": [
        {
          "output_type": "execute_result",
          "data": {
            "text/html": [
              "<div>\n",
              "<style scoped>\n",
              "    .dataframe tbody tr th:only-of-type {\n",
              "        vertical-align: middle;\n",
              "    }\n",
              "\n",
              "    .dataframe tbody tr th {\n",
              "        vertical-align: top;\n",
              "    }\n",
              "\n",
              "    .dataframe thead th {\n",
              "        text-align: right;\n",
              "    }\n",
              "</style>\n",
              "<table border=\"1\" class=\"dataframe\">\n",
              "  <thead>\n",
              "    <tr style=\"text-align: right;\">\n",
              "      <th></th>\n",
              "      <th>Day 1</th>\n",
              "      <th>Day 2</th>\n",
              "      <th>Day 3</th>\n",
              "    </tr>\n",
              "  </thead>\n",
              "  <tbody>\n",
              "    <tr>\n",
              "      <th>0</th>\n",
              "      <td>30</td>\n",
              "      <td>40</td>\n",
              "      <td>50</td>\n",
              "    </tr>\n",
              "    <tr>\n",
              "      <th>1</th>\n",
              "      <td>40</td>\n",
              "      <td>50</td>\n",
              "      <td>20</td>\n",
              "    </tr>\n",
              "    <tr>\n",
              "      <th>2</th>\n",
              "      <td>50</td>\n",
              "      <td>20</td>\n",
              "      <td>15</td>\n",
              "    </tr>\n",
              "    <tr>\n",
              "      <th>3</th>\n",
              "      <td>20</td>\n",
              "      <td>15</td>\n",
              "      <td>60</td>\n",
              "    </tr>\n",
              "    <tr>\n",
              "      <th>4</th>\n",
              "      <td>15</td>\n",
              "      <td>60</td>\n",
              "      <td>70</td>\n",
              "    </tr>\n",
              "    <tr>\n",
              "      <th>5</th>\n",
              "      <td>60</td>\n",
              "      <td>70</td>\n",
              "      <td>50</td>\n",
              "    </tr>\n",
              "  </tbody>\n",
              "</table>\n",
              "</div>"
            ],
            "text/plain": [
              "   Day 1  Day 2  Day 3\n",
              "0     30     40     50\n",
              "1     40     50     20\n",
              "2     50     20     15\n",
              "3     20     15     60\n",
              "4     15     60     70\n",
              "5     60     70     50"
            ]
          },
          "metadata": {},
          "execution_count": 9
        }
      ]
    },
    {
      "cell_type": "code",
      "metadata": {
        "id": "Da55LR2inAkx"
      },
      "source": [
        "X_norm = Normalizer(norm='max').fit_transform(X)"
      ],
      "execution_count": null,
      "outputs": []
    },
    {
      "cell_type": "code",
      "metadata": {
        "colab": {
          "base_uri": "https://localhost:8080/"
        },
        "id": "a_jYq5XVpuUP",
        "outputId": "1b2f2484-49ec-43f8-f5e7-080c8944915d"
      },
      "source": [
        "X_norm"
      ],
      "execution_count": null,
      "outputs": [
        {
          "output_type": "execute_result",
          "data": {
            "text/plain": [
              "array([[0.6       , 0.8       , 1.        ],\n",
              "       [0.8       , 1.        , 0.4       ],\n",
              "       [1.        , 0.4       , 0.3       ],\n",
              "       [0.33333333, 0.25      , 1.        ],\n",
              "       [0.21428571, 0.85714286, 1.        ],\n",
              "       [0.85714286, 1.        , 0.71428571]])"
            ]
          },
          "metadata": {},
          "execution_count": 11
        }
      ]
    },
    {
      "cell_type": "code",
      "metadata": {
        "colab": {
          "base_uri": "https://localhost:8080/"
        },
        "id": "M_-swp5_qoGp",
        "outputId": "154d9d62-25c1-4e57-9ba6-07cbc76929c0"
      },
      "source": [
        "array(y)"
      ],
      "execution_count": null,
      "outputs": [
        {
          "output_type": "execute_result",
          "data": {
            "text/plain": [
              "array([20, 15, 60, 70, 50, 40])"
            ]
          },
          "metadata": {},
          "execution_count": 12
        }
      ]
    },
    {
      "cell_type": "code",
      "metadata": {
        "colab": {
          "base_uri": "https://localhost:8080/"
        },
        "id": "CVbAq5TOoliW",
        "outputId": "e30b6a14-665b-4602-a239-bcc4bc8f9c1e"
      },
      "source": [
        "np.reshape(array(y),(1,-1))"
      ],
      "execution_count": null,
      "outputs": [
        {
          "output_type": "execute_result",
          "data": {
            "text/plain": [
              "array([[20, 15, 60, 70, 50, 40]])"
            ]
          },
          "metadata": {},
          "execution_count": 13
        }
      ]
    },
    {
      "cell_type": "code",
      "metadata": {
        "id": "bFXf3klxocdV"
      },
      "source": [
        "y_norm=Normalizer(norm='max').fit_transform(np.reshape(array(y),(1,-1)))"
      ],
      "execution_count": null,
      "outputs": []
    },
    {
      "cell_type": "code",
      "metadata": {
        "colab": {
          "base_uri": "https://localhost:8080/"
        },
        "id": "4XkfInJvp1Kz",
        "outputId": "679d8554-3ec4-48be-9731-599594071518"
      },
      "source": [
        "y_norm"
      ],
      "execution_count": null,
      "outputs": [
        {
          "output_type": "execute_result",
          "data": {
            "text/plain": [
              "array([[0.28571429, 0.21428571, 0.85714286, 1.        , 0.71428571,\n",
              "        0.57142857]])"
            ]
          },
          "metadata": {},
          "execution_count": 15
        }
      ]
    },
    {
      "cell_type": "markdown",
      "metadata": {
        "id": "JXt48Cser87U"
      },
      "source": [
        "ANN From Scratch"
      ]
    },
    {
      "cell_type": "code",
      "metadata": {
        "colab": {
          "base_uri": "https://localhost:8080/",
          "height": 35
        },
        "id": "6ZhtPDirsE04",
        "outputId": "30496d4d-86fa-4598-9c07-e81ee6d0a2bc"
      },
      "source": [
        "\"\"\"weight_1=array([[.2,.1],[.3,.1],[.2,.1]])\n",
        "weight_2=array([[.5],[.1]])\"\"\""
      ],
      "execution_count": null,
      "outputs": [
        {
          "output_type": "execute_result",
          "data": {
            "application/vnd.google.colaboratory.intrinsic+json": {
              "type": "string"
            },
            "text/plain": [
              "'weight_1=array([[.2,.1],[.3,.1],[.2,.1]])\\nweight_2=array([[.5],[.1]])'"
            ]
          },
          "metadata": {},
          "execution_count": 16
        }
      ]
    },
    {
      "cell_type": "code",
      "metadata": {
        "id": "-ZGzAb6eyJv8"
      },
      "source": [
        "weight_1=uniform(-1,1,(3,2)) #shape 3 by 2\n",
        "weight_2=uniform(-1,1,(2,1))"
      ],
      "execution_count": 59,
      "outputs": []
    },
    {
      "cell_type": "code",
      "metadata": {
        "colab": {
          "base_uri": "https://localhost:8080/"
        },
        "id": "ZFZBCdKFzrIf",
        "outputId": "9e208021-547e-4848-f03f-d417ab2cbe3b"
      },
      "source": [
        "weight_1"
      ],
      "execution_count": 60,
      "outputs": [
        {
          "output_type": "execute_result",
          "data": {
            "text/plain": [
              "array([[ 0.54243399,  0.06538203],\n",
              "       [ 0.09962462,  0.12095005],\n",
              "       [-0.37562006,  0.00987398]])"
            ]
          },
          "metadata": {},
          "execution_count": 60
        }
      ]
    },
    {
      "cell_type": "code",
      "metadata": {
        "colab": {
          "base_uri": "https://localhost:8080/"
        },
        "id": "lRE6WjcAw6f0",
        "outputId": "6913ca6a-a7fe-47b1-a03d-e5c495415050"
      },
      "source": [
        "weight_2[0][0]\n"
      ],
      "execution_count": null,
      "outputs": [
        {
          "output_type": "execute_result",
          "data": {
            "text/plain": [
              "0.3263840948993233"
            ]
          },
          "metadata": {},
          "execution_count": 19
        }
      ]
    },
    {
      "cell_type": "code",
      "metadata": {
        "colab": {
          "base_uri": "https://localhost:8080/"
        },
        "id": "uvAk9U3b0Lfo",
        "outputId": "537b2e63-19e3-4a39-ae9b-d75a8037b461"
      },
      "source": [
        "X_norm[0:batch_size]"
      ],
      "execution_count": null,
      "outputs": [
        {
          "output_type": "execute_result",
          "data": {
            "text/plain": [
              "array([[0.6, 0.8, 1. ],\n",
              "       [0.8, 1. , 0.4]])"
            ]
          },
          "metadata": {},
          "execution_count": 20
        }
      ]
    },
    {
      "cell_type": "code",
      "metadata": {
        "colab": {
          "base_uri": "https://localhost:8080/"
        },
        "id": "p8hw1c_DvKZN",
        "outputId": "66df91a5-a755-4a45-8b0c-e59bd5e94a51"
      },
      "source": [
        "output_1=X_norm[0:batch_size]@weight_1\n",
        "output_1"
      ],
      "execution_count": null,
      "outputs": [
        {
          "output_type": "execute_result",
          "data": {
            "text/plain": [
              "array([[-0.60323487,  1.14579467],\n",
              "       [-0.66912165,  0.63731765]])"
            ]
          },
          "metadata": {},
          "execution_count": 21
        }
      ]
    },
    {
      "cell_type": "code",
      "metadata": {
        "colab": {
          "base_uri": "https://localhost:8080/"
        },
        "id": "wsWkJ_NawIAc",
        "outputId": "5c58c13c-ab33-4366-a7c0-c497554c465c"
      },
      "source": [
        "act_output=sigmoid(output_1).numpy()\n",
        "act_output"
      ],
      "execution_count": null,
      "outputs": [
        {
          "output_type": "execute_result",
          "data": {
            "text/plain": [
              "array([[0.35360396, 0.75874196],\n",
              "       [0.33869355, 0.65414686]])"
            ]
          },
          "metadata": {},
          "execution_count": 22
        }
      ]
    },
    {
      "cell_type": "code",
      "metadata": {
        "id": "0jR_FUWwwc2F",
        "colab": {
          "base_uri": "https://localhost:8080/"
        },
        "outputId": "5a2b6a5d-73b4-42c4-f9ba-de62350cf19f"
      },
      "source": [
        "pred_output=act_output@weight_2\n",
        "pred_output=np.reshape(pred_output,(1,-1))\n",
        "pred_output"
      ],
      "execution_count": null,
      "outputs": [
        {
          "output_type": "execute_result",
          "data": {
            "text/plain": [
              "array([[0.08127137, 0.08111107]])"
            ]
          },
          "metadata": {},
          "execution_count": 23
        }
      ]
    },
    {
      "cell_type": "markdown",
      "metadata": {
        "id": "EPUW_VKXw-KG"
      },
      "source": [
        "Mean Squared Error"
      ]
    },
    {
      "cell_type": "code",
      "metadata": {
        "id": "y12G94bmxggB"
      },
      "source": [
        "y_true=y_norm[0][0:batch_size]\n",
        "y_pred=pred_output"
      ],
      "execution_count": null,
      "outputs": []
    },
    {
      "cell_type": "code",
      "metadata": {
        "colab": {
          "base_uri": "https://localhost:8080/"
        },
        "id": "ZldBUmjMqqQ6",
        "outputId": "a23eea53-3073-4f93-c13a-0ca552b82523"
      },
      "source": [
        "y_pred[0][1]"
      ],
      "execution_count": null,
      "outputs": [
        {
          "output_type": "execute_result",
          "data": {
            "text/plain": [
              "0.0811110739282442"
            ]
          },
          "metadata": {},
          "execution_count": 25
        }
      ]
    },
    {
      "cell_type": "code",
      "metadata": {
        "colab": {
          "base_uri": "https://localhost:8080/"
        },
        "id": "AD8y0mAoxtME",
        "outputId": "e758fc31-56cd-4782-8948-65931e193692"
      },
      "source": [
        "y_true"
      ],
      "execution_count": null,
      "outputs": [
        {
          "output_type": "execute_result",
          "data": {
            "text/plain": [
              "array([0.28571429, 0.21428571])"
            ]
          },
          "metadata": {},
          "execution_count": 26
        }
      ]
    },
    {
      "cell_type": "code",
      "metadata": {
        "colab": {
          "base_uri": "https://localhost:8080/"
        },
        "id": "GV5-3DdrxEer",
        "outputId": "5a5006c3-37ef-4dd6-f567-6f01f20ad314"
      },
      "source": [
        "mse(y_true,y_pred).numpy()"
      ],
      "execution_count": null,
      "outputs": [
        {
          "output_type": "execute_result",
          "data": {
            "text/plain": [
              "array([0.02976619])"
            ]
          },
          "metadata": {},
          "execution_count": 27
        }
      ]
    },
    {
      "cell_type": "markdown",
      "metadata": {
        "id": "LSw-uaq8pAGo"
      },
      "source": [
        "Back Propagation"
      ]
    },
    {
      "cell_type": "code",
      "metadata": {
        "colab": {
          "base_uri": "https://localhost:8080/"
        },
        "id": "wTgWuvRDpAGo",
        "outputId": "5bf9a8bd-8e0c-4048-bbf0-bb6568a4de75"
      },
      "source": [
        "y1 = y_true[0]\n",
        "y1"
      ],
      "execution_count": null,
      "outputs": [
        {
          "output_type": "execute_result",
          "data": {
            "text/plain": [
              "0.2857142857142857"
            ]
          },
          "metadata": {},
          "execution_count": 28
        }
      ]
    },
    {
      "cell_type": "code",
      "metadata": {
        "colab": {
          "base_uri": "https://localhost:8080/"
        },
        "id": "fexNJoxTpAGp",
        "outputId": "f7accbf6-3f34-43f7-d407-8f6436025226"
      },
      "source": [
        "y2 = y_pred[0][0]\n",
        "y2"
      ],
      "execution_count": null,
      "outputs": [
        {
          "output_type": "execute_result",
          "data": {
            "text/plain": [
              "0.08127137419971227"
            ]
          },
          "metadata": {},
          "execution_count": 29
        }
      ]
    },
    {
      "cell_type": "code",
      "metadata": {
        "colab": {
          "base_uri": "https://localhost:8080/"
        },
        "id": "uFyUVvmvr2aa",
        "outputId": "d79fca18-7be0-4e3f-84d1-6a68601f8555"
      },
      "source": [
        "output=y1-y2\n",
        "output"
      ],
      "execution_count": null,
      "outputs": [
        {
          "output_type": "execute_result",
          "data": {
            "text/plain": [
              "0.20444291151457344"
            ]
          },
          "metadata": {},
          "execution_count": 30
        }
      ]
    },
    {
      "cell_type": "markdown",
      "metadata": {
        "id": "xmGF0mWppelh"
      },
      "source": [
        "Error Computation"
      ]
    },
    {
      "cell_type": "code",
      "metadata": {
        "colab": {
          "base_uri": "https://localhost:8080/"
        },
        "id": "ccOIvWbQsDn2",
        "outputId": "d1bacd84-afc2-451f-8bac-fbbcbf8a628b"
      },
      "source": [
        "output2 = y2*(1-y2)\n",
        "output2"
      ],
      "execution_count": null,
      "outputs": [
        {
          "output_type": "execute_result",
          "data": {
            "text/plain": [
              "0.0746663379354026"
            ]
          },
          "metadata": {},
          "execution_count": 31
        }
      ]
    },
    {
      "cell_type": "code",
      "metadata": {
        "colab": {
          "base_uri": "https://localhost:8080/"
        },
        "id": "6kp2ILIVplg7",
        "outputId": "88d9f863-ef34-4fbb-85f6-df9d8809239b"
      },
      "source": [
        "error_k = output * output2\n",
        "error_k"
      ],
      "execution_count": null,
      "outputs": [
        {
          "output_type": "execute_result",
          "data": {
            "text/plain": [
              "0.015265003519644752"
            ]
          },
          "metadata": {},
          "execution_count": 32
        }
      ]
    },
    {
      "cell_type": "markdown",
      "metadata": {
        "id": "krN4xD2OwCCI"
      },
      "source": [
        "Error of hidden Layers\n",
        "𝑬𝒓𝒓𝒐𝒓(𝒋) = 𝒆𝒓𝒓𝒐𝒓 𝒂𝒕 𝒌 ∗ 𝒘𝒆𝒊𝒈𝒉𝒕 𝒐𝒇 𝒘𝒋𝒌 ∗ 𝒇’(𝒙𝒋)"
      ]
    },
    {
      "cell_type": "code",
      "metadata": {
        "colab": {
          "base_uri": "https://localhost:8080/"
        },
        "id": "LjQHjN3du5VS",
        "outputId": "7acc39fb-1911-47dc-fe1f-3097d7cdd450"
      },
      "source": [
        "error_j = error_k * weight_2[0][0] * (y_pred[0][0] * (1-y_pred[0][0]))\n",
        "error_j"
      ],
      "execution_count": null,
      "outputs": [
        {
          "output_type": "execute_result",
          "data": {
            "text/plain": [
              "0.0003720066875293302"
            ]
          },
          "metadata": {},
          "execution_count": 33
        }
      ]
    },
    {
      "cell_type": "code",
      "metadata": {
        "colab": {
          "base_uri": "https://localhost:8080/"
        },
        "id": "-QXATOgI0IWD",
        "outputId": "e0014e94-2123-4bf8-bee6-2c52f0c9f0f3"
      },
      "source": [
        "error_i = error_k * weight_2[1][0] * (y_pred[0][1] * (1-y_pred[0][1]))\n",
        "error_i"
      ],
      "execution_count": null,
      "outputs": [
        {
          "output_type": "execute_result",
          "data": {
            "text/plain": [
              "-5.119187147748561e-05"
            ]
          },
          "metadata": {},
          "execution_count": 34
        }
      ]
    },
    {
      "cell_type": "markdown",
      "metadata": {
        "id": "Z2Oa0QyV0dFr"
      },
      "source": [
        "Delta rule: 𝑊𝑛𝑒𝑤 = 𝑊𝑐𝑢𝑟𝑟𝑒𝑛𝑡 + Δ𝑊𝑐𝑢𝑟𝑟𝑒𝑛t"
      ]
    },
    {
      "cell_type": "code",
      "metadata": {
        "colab": {
          "base_uri": "https://localhost:8080/"
        },
        "id": "7jtlsd0x1E5i",
        "outputId": "8598ff48-d147-4e67-a70f-11bd7134a9a9"
      },
      "source": [
        "n = uniform(0,1)\n",
        "n"
      ],
      "execution_count": null,
      "outputs": [
        {
          "output_type": "execute_result",
          "data": {
            "text/plain": [
              "0.24011304343691342"
            ]
          },
          "metadata": {},
          "execution_count": 35
        }
      ]
    },
    {
      "cell_type": "code",
      "metadata": {
        "id": "h-QEvyG70t4y",
        "colab": {
          "base_uri": "https://localhost:8080/"
        },
        "outputId": "ac648fd1-e49d-4f8b-e052-a3de63c07269"
      },
      "source": [
        "w_new_j = weight_2[0][0] + (n * error_k * y_pred[0][0])\n",
        "w_new_j"
      ],
      "execution_count": null,
      "outputs": [
        {
          "output_type": "execute_result",
          "data": {
            "text/plain": [
              "0.3266819810170636"
            ]
          },
          "metadata": {},
          "execution_count": 36
        }
      ]
    },
    {
      "cell_type": "code",
      "metadata": {
        "colab": {
          "base_uri": "https://localhost:8080/"
        },
        "id": "N7d4kBgm6M-H",
        "outputId": "17926607-1491-48cd-ea5a-86eff69d9836"
      },
      "source": [
        "w_new_i = weight_2[1][0] + (n * error_k * y_pred[0][1])\n",
        "w_new_i"
      ],
      "execution_count": null,
      "outputs": [
        {
          "output_type": "execute_result",
          "data": {
            "text/plain": [
              "-0.044697356703819566"
            ]
          },
          "metadata": {},
          "execution_count": 37
        }
      ]
    },
    {
      "cell_type": "code",
      "metadata": {
        "colab": {
          "base_uri": "https://localhost:8080/"
        },
        "id": "QiiTfbRCDNXb",
        "outputId": "040d46a1-a65c-4b6a-d896-7ca3fa669e10"
      },
      "source": [
        "weight_1"
      ],
      "execution_count": 61,
      "outputs": [
        {
          "output_type": "execute_result",
          "data": {
            "text/plain": [
              "array([[ 0.54243399,  0.06538203],\n",
              "       [ 0.09962462,  0.12095005],\n",
              "       [-0.37562006,  0.00987398]])"
            ]
          },
          "metadata": {},
          "execution_count": 61
        }
      ]
    },
    {
      "cell_type": "code",
      "metadata": {
        "colab": {
          "base_uri": "https://localhost:8080/"
        },
        "id": "mxYC37VeEtF9",
        "outputId": "7d20fa43-e4cf-4e40-9ae7-8340d4dfdece"
      },
      "source": [
        "output_1"
      ],
      "execution_count": 63,
      "outputs": [
        {
          "output_type": "execute_result",
          "data": {
            "text/plain": [
              "array([[-1.59792438, -0.48145644],\n",
              "       [-1.53738029,  0.25931379]])"
            ]
          },
          "metadata": {},
          "execution_count": 63
        }
      ]
    },
    {
      "cell_type": "code",
      "metadata": {
        "colab": {
          "base_uri": "https://localhost:8080/"
        },
        "id": "VDILmpjRFX6B",
        "outputId": "9b715501-9f2a-40d4-cfde-dcc7e87fced8"
      },
      "source": [
        " weight_1[2:3]"
      ],
      "execution_count": 74,
      "outputs": [
        {
          "output_type": "execute_result",
          "data": {
            "text/plain": [
              "array([[-0.37562006,  0.00987398]])"
            ]
          },
          "metadata": {},
          "execution_count": 74
        }
      ]
    },
    {
      "cell_type": "markdown",
      "metadata": {
        "id": "yHSY1_FeCmnD"
      },
      "source": [
        "Calculating weights for the first layer"
      ]
    },
    {
      "cell_type": "code",
      "metadata": {
        "colab": {
          "base_uri": "https://localhost:8080/"
        },
        "id": "OkrmUos3Ckpf",
        "outputId": "8a601400-a714-4580-c088-0214a2b053eb"
      },
      "source": [
        "w_new_1 = weight_1[0:1] + (n * error_j * output_1[0:1])\n",
        "w_new_1"
      ],
      "execution_count": 82,
      "outputs": [
        {
          "output_type": "execute_result",
          "data": {
            "text/plain": [
              "array([[0.54253351, 0.06541201]])"
            ]
          },
          "metadata": {},
          "execution_count": 82
        }
      ]
    },
    {
      "cell_type": "code",
      "metadata": {
        "colab": {
          "base_uri": "https://localhost:8080/"
        },
        "id": "1uqxKE7SFmrd",
        "outputId": "32f6dd18-e9f3-4faf-f4cb-34e683787a4a"
      },
      "source": [
        "w_new_2 = weight_1[1:2] + (n * error_j * output_1[1:2])\n",
        "w_new_2"
      ],
      "execution_count": 81,
      "outputs": [
        {
          "output_type": "execute_result",
          "data": {
            "text/plain": [
              "array([[0.09972037, 0.1209339 ]])"
            ]
          },
          "metadata": {},
          "execution_count": 81
        }
      ]
    },
    {
      "cell_type": "code",
      "metadata": {
        "colab": {
          "base_uri": "https://localhost:8080/"
        },
        "id": "WH9talNKGJM2",
        "outputId": "6154a5fd-2e6e-4b17-accb-00a5797831a1"
      },
      "source": [
        "weight_1"
      ],
      "execution_count": 80,
      "outputs": [
        {
          "output_type": "execute_result",
          "data": {
            "text/plain": [
              "array([[ 0.54243399,  0.06538203],\n",
              "       [ 0.09962462,  0.12095005],\n",
              "       [-0.37562006,  0.00987398]])"
            ]
          },
          "metadata": {},
          "execution_count": 80
        }
      ]
    },
    {
      "cell_type": "code",
      "metadata": {
        "colab": {
          "base_uri": "https://localhost:8080/"
        },
        "id": "ykwbGyDVF1Fy",
        "outputId": "47c60c11-0867-4ed4-e5fd-b1618bd4cbf0"
      },
      "source": [
        "w_new_3 = weight_1[2:3] + (n * error_j * output_1[0:2])\n",
        "w_new_3[0:1]"
      ],
      "execution_count": 79,
      "outputs": [
        {
          "output_type": "execute_result",
          "data": {
            "text/plain": [
              "array([[-0.37552054,  0.00990397]])"
            ]
          },
          "metadata": {},
          "execution_count": 79
        }
      ]
    },
    {
      "cell_type": "code",
      "metadata": {
        "colab": {
          "base_uri": "https://localhost:8080/"
        },
        "id": "DH7c4ypxGxrF",
        "outputId": "618763aa-2818-4c8c-f340-be330ff5845b"
      },
      "source": [
        "weight_1_update = np.concatenate((w_new_1, w_new_2, w_new_3[0:1]))\n",
        "weight_1_update"
      ],
      "execution_count": 84,
      "outputs": [
        {
          "output_type": "execute_result",
          "data": {
            "text/plain": [
              "array([[ 0.54253351,  0.06541201],\n",
              "       [ 0.09972037,  0.1209339 ],\n",
              "       [-0.37552054,  0.00990397]])"
            ]
          },
          "metadata": {},
          "execution_count": 84
        }
      ]
    }
  ]
}