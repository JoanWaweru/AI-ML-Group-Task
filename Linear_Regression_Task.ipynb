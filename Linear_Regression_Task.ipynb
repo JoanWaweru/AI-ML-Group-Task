{
  "nbformat": 4,
  "nbformat_minor": 0,
  "metadata": {
    "colab": {
      "name": "Linear Regression Task.ipynb",
      "provenance": [],
      "authorship_tag": "ABX9TyMFNGzU+/lH9qGsqdtK1nKc",
      "include_colab_link": true
    },
    "kernelspec": {
      "name": "python3",
      "display_name": "Python 3"
    },
    "language_info": {
      "name": "python"
    }
  },
  "cells": [
    {
      "cell_type": "markdown",
      "metadata": {
        "id": "view-in-github",
        "colab_type": "text"
      },
      "source": [
        "<a href=\"https://colab.research.google.com/github/JoanWaweru/ML-Tasks/blob/main/Linear_Regression_Task.ipynb\" target=\"_parent\"><img src=\"https://colab.research.google.com/assets/colab-badge.svg\" alt=\"Open In Colab\"/></a>"
      ]
    },
    {
      "cell_type": "code",
      "execution_count": null,
      "metadata": {
        "id": "ot0NZBag4trS"
      },
      "outputs": [],
      "source": [
        "import matplotlib.pyplot as plt\n",
        "import numpy as np\n",
        "from scipy.stats import binom\n",
        "import pandas as pd"
      ]
    },
    {
      "cell_type": "code",
      "source": [
        "size = 100 #dataset size"
      ],
      "metadata": {
        "id": "ETmNv1U342Qs"
      },
      "execution_count": null,
      "outputs": []
    },
    {
      "cell_type": "code",
      "source": [
        "learningRate = 0.0000001\n",
        "\n",
        "fakeData = {\"Office Size\": np.random.normal(500, 50, size)}\n",
        "\n",
        "fakeData[\"Office Price\"] = np.random.normal(5000, 500, size)"
      ],
      "metadata": {
        "id": "9c45M8Fa480-"
      },
      "execution_count": null,
      "outputs": []
    },
    {
      "cell_type": "code",
      "source": [
        "pd.DataFrame(fakeData)"
      ],
      "metadata": {
        "colab": {
          "base_uri": "https://localhost:8080/",
          "height": 424
        },
        "id": "64Y4rcdt5OXT",
        "outputId": "0f9bfd6f-1385-475f-bf53-6499aad69d96"
      },
      "execution_count": null,
      "outputs": [
        {
          "output_type": "execute_result",
          "data": {
            "text/plain": [
              "    Office Size  Office Price\n",
              "0    412.254514   5203.994276\n",
              "1    544.805073   5735.456997\n",
              "2    515.898717   4651.418048\n",
              "3    548.193198   5161.859304\n",
              "4    404.476387   5571.864938\n",
              "..          ...           ...\n",
              "95   547.892182   4502.143853\n",
              "96   529.446372   4680.971063\n",
              "97   580.725449   6013.354512\n",
              "98   559.808523   4389.186978\n",
              "99   465.407719   4606.461597\n",
              "\n",
              "[100 rows x 2 columns]"
            ],
            "text/html": [
              "\n",
              "  <div id=\"df-1fe4d7a5-e3c2-4c38-b9f4-951530a053ca\">\n",
              "    <div class=\"colab-df-container\">\n",
              "      <div>\n",
              "<style scoped>\n",
              "    .dataframe tbody tr th:only-of-type {\n",
              "        vertical-align: middle;\n",
              "    }\n",
              "\n",
              "    .dataframe tbody tr th {\n",
              "        vertical-align: top;\n",
              "    }\n",
              "\n",
              "    .dataframe thead th {\n",
              "        text-align: right;\n",
              "    }\n",
              "</style>\n",
              "<table border=\"1\" class=\"dataframe\">\n",
              "  <thead>\n",
              "    <tr style=\"text-align: right;\">\n",
              "      <th></th>\n",
              "      <th>Office Size</th>\n",
              "      <th>Office Price</th>\n",
              "    </tr>\n",
              "  </thead>\n",
              "  <tbody>\n",
              "    <tr>\n",
              "      <th>0</th>\n",
              "      <td>412.254514</td>\n",
              "      <td>5203.994276</td>\n",
              "    </tr>\n",
              "    <tr>\n",
              "      <th>1</th>\n",
              "      <td>544.805073</td>\n",
              "      <td>5735.456997</td>\n",
              "    </tr>\n",
              "    <tr>\n",
              "      <th>2</th>\n",
              "      <td>515.898717</td>\n",
              "      <td>4651.418048</td>\n",
              "    </tr>\n",
              "    <tr>\n",
              "      <th>3</th>\n",
              "      <td>548.193198</td>\n",
              "      <td>5161.859304</td>\n",
              "    </tr>\n",
              "    <tr>\n",
              "      <th>4</th>\n",
              "      <td>404.476387</td>\n",
              "      <td>5571.864938</td>\n",
              "    </tr>\n",
              "    <tr>\n",
              "      <th>...</th>\n",
              "      <td>...</td>\n",
              "      <td>...</td>\n",
              "    </tr>\n",
              "    <tr>\n",
              "      <th>95</th>\n",
              "      <td>547.892182</td>\n",
              "      <td>4502.143853</td>\n",
              "    </tr>\n",
              "    <tr>\n",
              "      <th>96</th>\n",
              "      <td>529.446372</td>\n",
              "      <td>4680.971063</td>\n",
              "    </tr>\n",
              "    <tr>\n",
              "      <th>97</th>\n",
              "      <td>580.725449</td>\n",
              "      <td>6013.354512</td>\n",
              "    </tr>\n",
              "    <tr>\n",
              "      <th>98</th>\n",
              "      <td>559.808523</td>\n",
              "      <td>4389.186978</td>\n",
              "    </tr>\n",
              "    <tr>\n",
              "      <th>99</th>\n",
              "      <td>465.407719</td>\n",
              "      <td>4606.461597</td>\n",
              "    </tr>\n",
              "  </tbody>\n",
              "</table>\n",
              "<p>100 rows × 2 columns</p>\n",
              "</div>\n",
              "      <button class=\"colab-df-convert\" onclick=\"convertToInteractive('df-1fe4d7a5-e3c2-4c38-b9f4-951530a053ca')\"\n",
              "              title=\"Convert this dataframe to an interactive table.\"\n",
              "              style=\"display:none;\">\n",
              "        \n",
              "  <svg xmlns=\"http://www.w3.org/2000/svg\" height=\"24px\"viewBox=\"0 0 24 24\"\n",
              "       width=\"24px\">\n",
              "    <path d=\"M0 0h24v24H0V0z\" fill=\"none\"/>\n",
              "    <path d=\"M18.56 5.44l.94 2.06.94-2.06 2.06-.94-2.06-.94-.94-2.06-.94 2.06-2.06.94zm-11 1L8.5 8.5l.94-2.06 2.06-.94-2.06-.94L8.5 2.5l-.94 2.06-2.06.94zm10 10l.94 2.06.94-2.06 2.06-.94-2.06-.94-.94-2.06-.94 2.06-2.06.94z\"/><path d=\"M17.41 7.96l-1.37-1.37c-.4-.4-.92-.59-1.43-.59-.52 0-1.04.2-1.43.59L10.3 9.45l-7.72 7.72c-.78.78-.78 2.05 0 2.83L4 21.41c.39.39.9.59 1.41.59.51 0 1.02-.2 1.41-.59l7.78-7.78 2.81-2.81c.8-.78.8-2.07 0-2.86zM5.41 20L4 18.59l7.72-7.72 1.47 1.35L5.41 20z\"/>\n",
              "  </svg>\n",
              "      </button>\n",
              "      \n",
              "  <style>\n",
              "    .colab-df-container {\n",
              "      display:flex;\n",
              "      flex-wrap:wrap;\n",
              "      gap: 12px;\n",
              "    }\n",
              "\n",
              "    .colab-df-convert {\n",
              "      background-color: #E8F0FE;\n",
              "      border: none;\n",
              "      border-radius: 50%;\n",
              "      cursor: pointer;\n",
              "      display: none;\n",
              "      fill: #1967D2;\n",
              "      height: 32px;\n",
              "      padding: 0 0 0 0;\n",
              "      width: 32px;\n",
              "    }\n",
              "\n",
              "    .colab-df-convert:hover {\n",
              "      background-color: #E2EBFA;\n",
              "      box-shadow: 0px 1px 2px rgba(60, 64, 67, 0.3), 0px 1px 3px 1px rgba(60, 64, 67, 0.15);\n",
              "      fill: #174EA6;\n",
              "    }\n",
              "\n",
              "    [theme=dark] .colab-df-convert {\n",
              "      background-color: #3B4455;\n",
              "      fill: #D2E3FC;\n",
              "    }\n",
              "\n",
              "    [theme=dark] .colab-df-convert:hover {\n",
              "      background-color: #434B5C;\n",
              "      box-shadow: 0px 1px 3px 1px rgba(0, 0, 0, 0.15);\n",
              "      filter: drop-shadow(0px 1px 2px rgba(0, 0, 0, 0.3));\n",
              "      fill: #FFFFFF;\n",
              "    }\n",
              "  </style>\n",
              "\n",
              "      <script>\n",
              "        const buttonEl =\n",
              "          document.querySelector('#df-1fe4d7a5-e3c2-4c38-b9f4-951530a053ca button.colab-df-convert');\n",
              "        buttonEl.style.display =\n",
              "          google.colab.kernel.accessAllowed ? 'block' : 'none';\n",
              "\n",
              "        async function convertToInteractive(key) {\n",
              "          const element = document.querySelector('#df-1fe4d7a5-e3c2-4c38-b9f4-951530a053ca');\n",
              "          const dataTable =\n",
              "            await google.colab.kernel.invokeFunction('convertToInteractive',\n",
              "                                                     [key], {});\n",
              "          if (!dataTable) return;\n",
              "\n",
              "          const docLinkHtml = 'Like what you see? Visit the ' +\n",
              "            '<a target=\"_blank\" href=https://colab.research.google.com/notebooks/data_table.ipynb>data table notebook</a>'\n",
              "            + ' to learn more about interactive tables.';\n",
              "          element.innerHTML = '';\n",
              "          dataTable['output_type'] = 'display_data';\n",
              "          await google.colab.output.renderOutput(dataTable, element);\n",
              "          const docLink = document.createElement('div');\n",
              "          docLink.innerHTML = docLinkHtml;\n",
              "          element.appendChild(docLink);\n",
              "        }\n",
              "      </script>\n",
              "    </div>\n",
              "  </div>\n",
              "  "
            ]
          },
          "metadata": {},
          "execution_count": 14
        }
      ]
    },
    {
      "cell_type": "code",
      "source": [
        "class LinearRegression:\n",
        "  def __init__(self, size, learningRate):\n",
        "    self.n_weight = 0\n",
        "    self.n_bias = 0\n",
        "    self.data_size = size\n",
        "    self.learning_rate = learningRate\n",
        "    self.sum_error_squared = 0\n",
        "\n",
        "  def predict(self, weight, bias, fakeData):\n",
        "    yPredict = fakeData[\"Office Size\"] * weight + bias\n",
        "    return yPredict\n",
        "\n",
        "  def mean_squared_error(self, fakeData):\n",
        "    fakeData[\"error\"] = fakeData[\"Office Price\"] - fakeData[\"yPredict\"]\n",
        "    fakeData[\"error_squared\"] = fakeData[\"error\"]**2\n",
        "    return sum(fakeData['error_squared'])/self.data_size\n",
        "\n",
        "  def grad_descent(self, bias, weight):\n",
        "    self.n_bias = bias - (self.learning_rate * - 2 * sum (fakeData[\"error\"]))\n",
        "    self.n_weight = weight - (self.learning_rate * ((-2/self.data_size) * sum(fakeData[\"Office Size\"] * fakeData[\"error\"])))\n",
        "    return self.n_bias, self.n_weight"
      ],
      "metadata": {
        "id": "8tzOGPwh5YAR"
      },
      "execution_count": null,
      "outputs": []
    },
    {
      "cell_type": "code",
      "source": [
        "model = LinearRegression(size, learningRate)"
      ],
      "metadata": {
        "id": "7pPRLv1E6CEg"
      },
      "execution_count": null,
      "outputs": []
    },
    {
      "cell_type": "code",
      "source": [
        "weight = 0.5\n",
        "bias = 5\n",
        "epochs = 100\n",
        "\n",
        "for i in range(epochs):\n",
        "  fakeData[\"yPredict\"] = model.predict(weight, bias, fakeData)\n",
        "\n",
        "  model.mean_squared_error(fakeData)\n",
        "\n",
        "  bias, weight = model.grad_descent(bias, weight)\n",
        "\n",
        "pd.DataFrame(fakeData)"
      ],
      "metadata": {
        "colab": {
          "base_uri": "https://localhost:8080/",
          "height": 424
        },
        "id": "D_Lwb-wb6IOx",
        "outputId": "5220921d-e5dc-4422-855f-b16fd1b2cb30"
      },
      "execution_count": null,
      "outputs": [
        {
          "output_type": "execute_result",
          "data": {
            "text/plain": [
              "    Office Size  Office Price     yPredict        error  error_squared\n",
              "0    412.254514   5203.994276  4084.523452  1119.470823   1.253215e+06\n",
              "1    544.805073   5735.456997  5395.558112   339.898884   1.155313e+05\n",
              "2    515.898717   4651.418048  5109.650341  -458.232294   2.099768e+05\n",
              "3    548.193198   5161.859304  5429.069470  -267.210166   7.140127e+04\n",
              "4    404.476387   5571.864938  4007.591343  1564.273595   2.446952e+06\n",
              "..          ...           ...          ...          ...            ...\n",
              "95   547.892182   4502.143853  5426.092171  -923.948318   8.536805e+05\n",
              "96   529.446372   4680.971063  5243.647850  -562.676787   3.166052e+05\n",
              "97   580.725449   6013.354512  5750.840339   262.514173   6.891369e+04\n",
              "98   559.808523   4389.186978  5543.954636 -1154.767658   1.333488e+06\n",
              "99   465.407719   4606.461597  4610.252615    -3.791018   1.437182e+01\n",
              "\n",
              "[100 rows x 5 columns]"
            ],
            "text/html": [
              "\n",
              "  <div id=\"df-1d39d823-025b-4d6e-84e2-a1c5eb90f158\">\n",
              "    <div class=\"colab-df-container\">\n",
              "      <div>\n",
              "<style scoped>\n",
              "    .dataframe tbody tr th:only-of-type {\n",
              "        vertical-align: middle;\n",
              "    }\n",
              "\n",
              "    .dataframe tbody tr th {\n",
              "        vertical-align: top;\n",
              "    }\n",
              "\n",
              "    .dataframe thead th {\n",
              "        text-align: right;\n",
              "    }\n",
              "</style>\n",
              "<table border=\"1\" class=\"dataframe\">\n",
              "  <thead>\n",
              "    <tr style=\"text-align: right;\">\n",
              "      <th></th>\n",
              "      <th>Office Size</th>\n",
              "      <th>Office Price</th>\n",
              "      <th>yPredict</th>\n",
              "      <th>error</th>\n",
              "      <th>error_squared</th>\n",
              "    </tr>\n",
              "  </thead>\n",
              "  <tbody>\n",
              "    <tr>\n",
              "      <th>0</th>\n",
              "      <td>412.254514</td>\n",
              "      <td>5203.994276</td>\n",
              "      <td>4084.523452</td>\n",
              "      <td>1119.470823</td>\n",
              "      <td>1.253215e+06</td>\n",
              "    </tr>\n",
              "    <tr>\n",
              "      <th>1</th>\n",
              "      <td>544.805073</td>\n",
              "      <td>5735.456997</td>\n",
              "      <td>5395.558112</td>\n",
              "      <td>339.898884</td>\n",
              "      <td>1.155313e+05</td>\n",
              "    </tr>\n",
              "    <tr>\n",
              "      <th>2</th>\n",
              "      <td>515.898717</td>\n",
              "      <td>4651.418048</td>\n",
              "      <td>5109.650341</td>\n",
              "      <td>-458.232294</td>\n",
              "      <td>2.099768e+05</td>\n",
              "    </tr>\n",
              "    <tr>\n",
              "      <th>3</th>\n",
              "      <td>548.193198</td>\n",
              "      <td>5161.859304</td>\n",
              "      <td>5429.069470</td>\n",
              "      <td>-267.210166</td>\n",
              "      <td>7.140127e+04</td>\n",
              "    </tr>\n",
              "    <tr>\n",
              "      <th>4</th>\n",
              "      <td>404.476387</td>\n",
              "      <td>5571.864938</td>\n",
              "      <td>4007.591343</td>\n",
              "      <td>1564.273595</td>\n",
              "      <td>2.446952e+06</td>\n",
              "    </tr>\n",
              "    <tr>\n",
              "      <th>...</th>\n",
              "      <td>...</td>\n",
              "      <td>...</td>\n",
              "      <td>...</td>\n",
              "      <td>...</td>\n",
              "      <td>...</td>\n",
              "    </tr>\n",
              "    <tr>\n",
              "      <th>95</th>\n",
              "      <td>547.892182</td>\n",
              "      <td>4502.143853</td>\n",
              "      <td>5426.092171</td>\n",
              "      <td>-923.948318</td>\n",
              "      <td>8.536805e+05</td>\n",
              "    </tr>\n",
              "    <tr>\n",
              "      <th>96</th>\n",
              "      <td>529.446372</td>\n",
              "      <td>4680.971063</td>\n",
              "      <td>5243.647850</td>\n",
              "      <td>-562.676787</td>\n",
              "      <td>3.166052e+05</td>\n",
              "    </tr>\n",
              "    <tr>\n",
              "      <th>97</th>\n",
              "      <td>580.725449</td>\n",
              "      <td>6013.354512</td>\n",
              "      <td>5750.840339</td>\n",
              "      <td>262.514173</td>\n",
              "      <td>6.891369e+04</td>\n",
              "    </tr>\n",
              "    <tr>\n",
              "      <th>98</th>\n",
              "      <td>559.808523</td>\n",
              "      <td>4389.186978</td>\n",
              "      <td>5543.954636</td>\n",
              "      <td>-1154.767658</td>\n",
              "      <td>1.333488e+06</td>\n",
              "    </tr>\n",
              "    <tr>\n",
              "      <th>99</th>\n",
              "      <td>465.407719</td>\n",
              "      <td>4606.461597</td>\n",
              "      <td>4610.252615</td>\n",
              "      <td>-3.791018</td>\n",
              "      <td>1.437182e+01</td>\n",
              "    </tr>\n",
              "  </tbody>\n",
              "</table>\n",
              "<p>100 rows × 5 columns</p>\n",
              "</div>\n",
              "      <button class=\"colab-df-convert\" onclick=\"convertToInteractive('df-1d39d823-025b-4d6e-84e2-a1c5eb90f158')\"\n",
              "              title=\"Convert this dataframe to an interactive table.\"\n",
              "              style=\"display:none;\">\n",
              "        \n",
              "  <svg xmlns=\"http://www.w3.org/2000/svg\" height=\"24px\"viewBox=\"0 0 24 24\"\n",
              "       width=\"24px\">\n",
              "    <path d=\"M0 0h24v24H0V0z\" fill=\"none\"/>\n",
              "    <path d=\"M18.56 5.44l.94 2.06.94-2.06 2.06-.94-2.06-.94-.94-2.06-.94 2.06-2.06.94zm-11 1L8.5 8.5l.94-2.06 2.06-.94-2.06-.94L8.5 2.5l-.94 2.06-2.06.94zm10 10l.94 2.06.94-2.06 2.06-.94-2.06-.94-.94-2.06-.94 2.06-2.06.94z\"/><path d=\"M17.41 7.96l-1.37-1.37c-.4-.4-.92-.59-1.43-.59-.52 0-1.04.2-1.43.59L10.3 9.45l-7.72 7.72c-.78.78-.78 2.05 0 2.83L4 21.41c.39.39.9.59 1.41.59.51 0 1.02-.2 1.41-.59l7.78-7.78 2.81-2.81c.8-.78.8-2.07 0-2.86zM5.41 20L4 18.59l7.72-7.72 1.47 1.35L5.41 20z\"/>\n",
              "  </svg>\n",
              "      </button>\n",
              "      \n",
              "  <style>\n",
              "    .colab-df-container {\n",
              "      display:flex;\n",
              "      flex-wrap:wrap;\n",
              "      gap: 12px;\n",
              "    }\n",
              "\n",
              "    .colab-df-convert {\n",
              "      background-color: #E8F0FE;\n",
              "      border: none;\n",
              "      border-radius: 50%;\n",
              "      cursor: pointer;\n",
              "      display: none;\n",
              "      fill: #1967D2;\n",
              "      height: 32px;\n",
              "      padding: 0 0 0 0;\n",
              "      width: 32px;\n",
              "    }\n",
              "\n",
              "    .colab-df-convert:hover {\n",
              "      background-color: #E2EBFA;\n",
              "      box-shadow: 0px 1px 2px rgba(60, 64, 67, 0.3), 0px 1px 3px 1px rgba(60, 64, 67, 0.15);\n",
              "      fill: #174EA6;\n",
              "    }\n",
              "\n",
              "    [theme=dark] .colab-df-convert {\n",
              "      background-color: #3B4455;\n",
              "      fill: #D2E3FC;\n",
              "    }\n",
              "\n",
              "    [theme=dark] .colab-df-convert:hover {\n",
              "      background-color: #434B5C;\n",
              "      box-shadow: 0px 1px 3px 1px rgba(0, 0, 0, 0.15);\n",
              "      filter: drop-shadow(0px 1px 2px rgba(0, 0, 0, 0.3));\n",
              "      fill: #FFFFFF;\n",
              "    }\n",
              "  </style>\n",
              "\n",
              "      <script>\n",
              "        const buttonEl =\n",
              "          document.querySelector('#df-1d39d823-025b-4d6e-84e2-a1c5eb90f158 button.colab-df-convert');\n",
              "        buttonEl.style.display =\n",
              "          google.colab.kernel.accessAllowed ? 'block' : 'none';\n",
              "\n",
              "        async function convertToInteractive(key) {\n",
              "          const element = document.querySelector('#df-1d39d823-025b-4d6e-84e2-a1c5eb90f158');\n",
              "          const dataTable =\n",
              "            await google.colab.kernel.invokeFunction('convertToInteractive',\n",
              "                                                     [key], {});\n",
              "          if (!dataTable) return;\n",
              "\n",
              "          const docLinkHtml = 'Like what you see? Visit the ' +\n",
              "            '<a target=\"_blank\" href=https://colab.research.google.com/notebooks/data_table.ipynb>data table notebook</a>'\n",
              "            + ' to learn more about interactive tables.';\n",
              "          element.innerHTML = '';\n",
              "          dataTable['output_type'] = 'display_data';\n",
              "          await google.colab.output.renderOutput(dataTable, element);\n",
              "          const docLink = document.createElement('div');\n",
              "          docLink.innerHTML = docLinkHtml;\n",
              "          element.appendChild(docLink);\n",
              "        }\n",
              "      </script>\n",
              "    </div>\n",
              "  </div>\n",
              "  "
            ]
          },
          "metadata": {},
          "execution_count": 17
        }
      ]
    },
    {
      "cell_type": "code",
      "source": [
        "weight, bias"
      ],
      "metadata": {
        "colab": {
          "base_uri": "https://localhost:8080/"
        },
        "id": "6bmSLGFf6Yei",
        "outputId": "6df81c23-5723-46ce-f114-c21135a434dd"
      },
      "execution_count": null,
      "outputs": [
        {
          "output_type": "execute_result",
          "data": {
            "text/plain": [
              "(9.893746415042678, 6.987160581137671)"
            ]
          },
          "metadata": {},
          "execution_count": 18
        }
      ]
    },
    {
      "cell_type": "code",
      "source": [
        "plt.scatter(fakeData[\"Office Size\"], fakeData[\"yPredict\"])\n",
        "plt.plot(fakeData[\"Office Size\"], fakeData[\"yPredict\"], \"Black\")"
      ],
      "metadata": {
        "colab": {
          "base_uri": "https://localhost:8080/",
          "height": 282
        },
        "id": "CLnKkYgv6bSg",
        "outputId": "c1d1c5e1-6eda-4186-ac40-08d49487ec3a"
      },
      "execution_count": null,
      "outputs": [
        {
          "output_type": "execute_result",
          "data": {
            "text/plain": [
              "[<matplotlib.lines.Line2D at 0x7f1e50604550>]"
            ]
          },
          "metadata": {},
          "execution_count": 19
        },
        {
          "output_type": "display_data",
          "data": {
            "text/plain": [
              "<Figure size 432x288 with 1 Axes>"
            ],
            "image/png": "[encoded data removed]"
          },
          "metadata": {
            "needs_background": "light"
          }
        }
      ]
    },
    {
      "cell_type": "code",
      "source": [
        "size = 100\n",
        "\n",
        "estimatePrice = weight * size + bias\n",
        "\n",
        "estimatePrice"
      ],
      "metadata": {
        "colab": {
          "base_uri": "https://localhost:8080/"
        },
        "id": "ByO6whlW7Sua",
        "outputId": "1f602aef-ae33-4880-ee84-f807ceb351fb"
      },
      "execution_count": null,
      "outputs": [
        {
          "output_type": "execute_result",
          "data": {
            "text/plain": [
              "996.3618020854054"
            ]
          },
          "metadata": {},
          "execution_count": 20
        }
      ]
    }
  ]
}